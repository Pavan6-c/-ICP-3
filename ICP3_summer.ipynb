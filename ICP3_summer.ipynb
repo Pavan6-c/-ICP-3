{
  "nbformat": 4,
  "nbformat_minor": 0,
  "metadata": {
    "colab": {
      "provenance": [],
      "authorship_tag": "ABX9TyOhABAd1yi/cKB/2zRvgVF+",
      "include_colab_link": true
    },
    "kernelspec": {
      "name": "python3",
      "display_name": "Python 3"
    },
    "language_info": {
      "name": "python"
    }
  },
  "cells": [
    {
      "cell_type": "markdown",
      "metadata": {
        "id": "view-in-github",
        "colab_type": "text"
      },
      "source": [
        "<a href=\"https://colab.research.google.com/github/Pavan6-c/-ICP-3/blob/main/ICP3_summer.ipynb\" target=\"_parent\"><img src=\"https://colab.research.google.com/assets/colab-badge.svg\" alt=\"Open In Colab\"/></a>"
      ]
    },
    {
      "cell_type": "code",
      "execution_count": null,
      "metadata": {
        "colab": {
          "base_uri": "https://localhost:8080/"
        },
        "id": "qDE-kIkd2qdn",
        "outputId": "92d4f5c1-27ef-43d7-f30b-5c04998419f8"
      },
      "outputs": [
        {
          "output_type": "stream",
          "name": "stdout",
          "text": [
            "Original array:\n",
            " [ 3 12  6 12 17  3 10 18  9  6  5 10 12 12 10]\n",
            "\n",
            "Reshaped array (3x5):\n",
            " [[ 3 12  6 12 17]\n",
            " [ 3 10 18  9  6]\n",
            " [ 5 10 12 12 10]]\n",
            "\n",
            "Shape of the array: (3, 5)\n",
            "\n",
            "Array after replacing max in each row with 0:\n",
            " [[ 3 12  6 12  0]\n",
            " [ 3 10  0  9  6]\n",
            " [ 5 10  0 12 10]]\n"
          ]
        }
      ],
      "source": [
        "#1.Numpy\n",
        "\n",
        "import numpy as np\n",
        "\n",
        "# a. Create a random vector of size 15 with integers from 1 to 20\n",
        "arr = np.random.randint(1, 21, size=15)\n",
        "print(\"Original array:\\n\", arr)\n",
        "\n",
        "# 1. Reshape the array to 3 by 5\n",
        "reshaped_arr = arr.reshape(3, 5)\n",
        "print(\"\\nReshaped array (3x5):\\n\", reshaped_arr)\n",
        "\n",
        "# 2. Print array shape\n",
        "print(\"\\nShape of the array:\", reshaped_arr.shape)\n",
        "\n",
        "# 3. Replace the max in each row with 0\n",
        "for i in range(reshaped_arr.shape[0]):\n",
        "    max_index = reshaped_arr[i].argmax()  # Get index of max in the row\n",
        "    reshaped_arr[i][max_index] = 0        # Replace it with 0\n",
        "\n",
        "print(\"\\nArray after replacing max in each row with 0:\\n\", reshaped_arr)"
      ]
    },
    {
      "cell_type": "code",
      "source": [
        "#b\n",
        "import numpy as np\n",
        "\n",
        "# Create a 2D array of size 4x3 with 4-byte integers\n",
        "arr = np.array([[1, 2, 3],\n",
        "                [4, 5, 6],\n",
        "                [7, 8, 9],\n",
        "                [10, 11, 12]], dtype=np.int32)\n",
        "\n",
        "print(\"Array:\\n\", arr) #print the array\n",
        "\n",
        "# Print the shape\n",
        "print(\"\\nShape of the array:\", arr.shape)\n",
        "\n",
        "# Print the type\n",
        "print(\"Type of the array:\", type(arr))\n",
        "\n",
        "# Print the data type\n",
        "print(\"Data type of the array elements:\", arr.dtype)\n"
      ],
      "metadata": {
        "colab": {
          "base_uri": "https://localhost:8080/"
        },
        "id": "-MMKZcKq3jU0",
        "outputId": "2e0a8e39-e3a3-4a83-9bea-a6e7d16852fa"
      },
      "execution_count": null,
      "outputs": [
        {
          "output_type": "stream",
          "name": "stdout",
          "text": [
            "Array:\n",
            " [[ 1  2  3]\n",
            " [ 4  5  6]\n",
            " [ 7  8  9]\n",
            " [10 11 12]]\n",
            "\n",
            "Shape of the array: (4, 3)\n",
            "Type of the array: <class 'numpy.ndarray'>\n",
            "Data type of the array elements: int32\n"
          ]
        }
      ]
    },
    {
      "cell_type": "code",
      "source": [
        "#c\n",
        "import numpy as np\n",
        "\n",
        "# Define the square array\n",
        "A = np.array([[3, -2],\n",
        "              [1,  0]])\n",
        "\n",
        "# Compute eigenvalues and right eigenvectors\n",
        "eigenvalues, eigenvectors = np.linalg.eig(A)\n",
        "\n",
        "# Display results\n",
        "print(\"Eigenvalues:\\n\", eigenvalues)\n",
        "print(\"\\nRight Eigenvectors:\\n\", eigenvectors)\n"
      ],
      "metadata": {
        "colab": {
          "base_uri": "https://localhost:8080/"
        },
        "id": "mS_nN76k340M",
        "outputId": "e2030053-9bd7-4b40-9cff-dd0622f97539"
      },
      "execution_count": null,
      "outputs": [
        {
          "output_type": "stream",
          "name": "stdout",
          "text": [
            "Eigenvalues:\n",
            " [2. 1.]\n",
            "\n",
            "Right Eigenvectors:\n",
            " [[0.89442719 0.70710678]\n",
            " [0.4472136  0.70710678]]\n"
          ]
        }
      ]
    },
    {
      "cell_type": "code",
      "source": [
        "#d\n",
        "import numpy as np\n",
        "\n",
        "# Define the array\n",
        "arr = np.array([[0, 1, 2],\n",
        "                [3, 4, 5]])\n",
        "\n",
        "# Compute the sum of the diagonal elements\n",
        "diagonal_sum = np.trace(arr)\n",
        "\n",
        "# Display the result\n",
        "print(\"Sum of diagonal elements:\", diagonal_sum)"
      ],
      "metadata": {
        "colab": {
          "base_uri": "https://localhost:8080/"
        },
        "id": "YblNiBPK4P4D",
        "outputId": "934b015f-95ff-4adb-cfc9-f33f2efd5df5"
      },
      "execution_count": null,
      "outputs": [
        {
          "output_type": "stream",
          "name": "stdout",
          "text": [
            "Sum of diagonal elements: 4\n"
          ]
        }
      ]
    },
    {
      "cell_type": "code",
      "source": [
        "#e\n",
        "import numpy as np\n",
        "\n",
        "# Original 3x2 array\n",
        "arr = np.array([[1, 2],\n",
        "                [3, 4],\n",
        "                [5, 6]])\n",
        "\n",
        "print(\"Original array (3x2):\\n\", arr)\n",
        "\n",
        "# Reshape to 2x3\n",
        "reshaped_arr = arr.reshape(2, 3)\n",
        "\n",
        "print(\"\\nReshaped array (2x3):\\n\", reshaped_arr)"
      ],
      "metadata": {
        "colab": {
          "base_uri": "https://localhost:8080/"
        },
        "id": "DRU6SaHS4ckh",
        "outputId": "7d57d3f2-2c27-46df-8b31-afc59105ffbf"
      },
      "execution_count": null,
      "outputs": [
        {
          "output_type": "stream",
          "name": "stdout",
          "text": [
            "Original array (3x2):\n",
            " [[1 2]\n",
            " [3 4]\n",
            " [5 6]]\n",
            "\n",
            "Reshaped array (2x3):\n",
            " [[1 2 3]\n",
            " [4 5 6]]\n"
          ]
        }
      ]
    }
  ]
}